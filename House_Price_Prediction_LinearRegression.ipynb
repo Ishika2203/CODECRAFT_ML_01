{
 "cells": [
  {
   "cell_type": "markdown",
   "id": "1a371d2c",
   "metadata": {},
   "source": [
    "# 🏠 House Price Prediction - Linear Regression"
   ]
  },
  {
   "cell_type": "markdown",
   "id": "a8cd02b1",
   "metadata": {},
   "source": [
    "This notebook uses a simple linear regression model to predict house prices using features such as square footage, number of bedrooms, and bathrooms from the Ames Housing dataset."
   ]
  },
  {
   "cell_type": "code",
   "execution_count": null,
   "id": "ad0d66e2",
   "metadata": {},
   "outputs": [],
   "source": [
    "import pandas as pd\n",
    "import numpy as np\n",
    "import matplotlib.pyplot as plt\n",
    "from sklearn.linear_model import LinearRegression\n",
    "from sklearn.metrics import mean_squared_error, r2_score\n",
    "from sklearn.model_selection import train_test_split\n",
    "import seaborn as sns"
   ]
  },
  {
   "cell_type": "markdown",
   "id": "bcf6037e",
   "metadata": {},
   "source": [
    "## 📥 Load the Data"
   ]
  },
  {
   "cell_type": "code",
   "execution_count": null,
   "id": "04e221f2",
   "metadata": {},
   "outputs": [],
   "source": [
    "# Replace with actual paths if files are stored in subfolders\n",
    "train = pd.read_csv('train.csv')\n",
    "test = pd.read_csv('test.csv')\n",
    "train.shape, test.shape"
   ]
  },
  {
   "cell_type": "markdown",
   "id": "36f87ccc",
   "metadata": {},
   "source": [
    "## 🧹 Preprocessing"
   ]
  },
  {
   "cell_type": "code",
   "execution_count": null,
   "id": "61dbd6fb",
   "metadata": {},
   "outputs": [],
   "source": [
    "# Select useful features\n",
    "features = ['GrLivArea', 'BedroomAbvGr', 'FullBath']\n",
    "target = 'SalePrice'\n",
    "\n",
    "# Drop rows with missing values\n",
    "train = train.dropna(subset=features + [target])\n",
    "X = train[features]\n",
    "y = train[target]"
   ]
  },
  {
   "cell_type": "markdown",
   "id": "3f5f0d1d",
   "metadata": {},
   "source": [
    "## 🔍 Train/Test Split and Linear Regression"
   ]
  },
  {
   "cell_type": "code",
   "execution_count": null,
   "id": "8354fcf9",
   "metadata": {},
   "outputs": [],
   "source": [
    "X_train, X_val, y_train, y_val = train_test_split(X, y, test_size=0.2, random_state=42)\n",
    "\n",
    "model = LinearRegression()\n",
    "model.fit(X_train, y_train)\n",
    "\n",
    "y_pred = model.predict(X_val)\n",
    "rmse = np.sqrt(mean_squared_error(y_val, y_pred))\n",
    "r2 = r2_score(y_val, y_pred)\n",
    "\n",
    "print(f'RMSE: {rmse:.2f}')\n",
    "print(f'R² Score: {r2:.2f}')"
   ]
  },
  {
   "cell_type": "markdown",
   "id": "d60162ca",
   "metadata": {},
   "source": [
    "## 📈 Actual vs Predicted Prices"
   ]
  },
  {
   "cell_type": "code",
   "execution_count": null,
   "id": "3b67d66b",
   "metadata": {},
   "outputs": [],
   "source": [
    "plt.figure(figsize=(8, 5))\n",
    "plt.scatter(y_val, y_pred, alpha=0.5)\n",
    "plt.plot([y_val.min(), y_val.max()], [y_val.min(), y_val.max()], '--r')\n",
    "plt.xlabel('Actual Sale Price')\n",
    "plt.ylabel('Predicted Sale Price')\n",
    "plt.title('Actual vs Predicted Prices')\n",
    "plt.grid(True)\n",
    "plt.show()"
   ]
  },
  {
   "cell_type": "markdown",
   "id": "7733b811",
   "metadata": {},
   "source": [
    "## ✅ Conclusion\n",
    "This notebook shows a basic implementation of Linear Regression to predict house prices using a few simple features from the Ames dataset. You can extend it by including more features or trying advanced models."
   ]
  }
 ],
 "metadata": {},
 "nbformat": 4,
 "nbformat_minor": 5
}
